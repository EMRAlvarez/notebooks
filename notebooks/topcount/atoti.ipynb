{
 "cells": [
  {
   "cell_type": "markdown",
   "metadata": {},
   "source": [
    "# Ways to visualize top count with atoti\n",
    "\n",
    "Given different categories of items, we will explore how to achieve the following with atoti:\n",
    "- Visualize top 10 apps with the highest rating in table\n",
    "- Visualize top 10 categories with most number of apps rated 5 in Pie chart\n",
    "- Visualize top 10 apps for each category in subplots\n",
    "\n",
    "See [pandas.ipynb](pandas.ipynb) to see how we can achieve the similar top count with Pandas.\n",
    "\n",
    "__Note on data:__\n",
    "We are using the [Google Play Store Apps data](https://www.kaggle.com/lava18/google-play-store-apps) from Kaggle. Data has been processed to convert strings with millions and thousands abbreviations into numeric data."
   ]
  },
  {
   "cell_type": "markdown",
   "metadata": {},
   "source": [
    "<div style=\"text-align:center\"><a href=\"https://www.atoti.io/?utm_source=gallery&utm_content=top-count\" target=\"_blank\" rel=\"noopener noreferrer\"><img src=\"https://data.atoti.io/notebooks/banners/discover.png\" alt=\"atoti table\" /></a></div>"
   ]
  },
  {
   "cell_type": "markdown",
   "metadata": {},
   "source": [
    "## Top count with atoti"
   ]
  },
  {
   "cell_type": "code",
   "execution_count": 1,
   "metadata": {
    "tags": []
   },
   "outputs": [],
   "source": [
    "import atoti as tt\n",
    "\n",
    "session = tt.create_session(config={\"user_content_storage\": \"./content\", \"port\": 55707})"
   ]
  },
  {
   "cell_type": "code",
   "execution_count": 2,
   "metadata": {},
   "outputs": [
    {
     "data": {
      "text/html": [
       "<div>\n",
       "<style scoped>\n",
       "    .dataframe tbody tr th:only-of-type {\n",
       "        vertical-align: middle;\n",
       "    }\n",
       "\n",
       "    .dataframe tbody tr th {\n",
       "        vertical-align: top;\n",
       "    }\n",
       "\n",
       "    .dataframe thead th {\n",
       "        text-align: right;\n",
       "    }\n",
       "</style>\n",
       "<table border=\"1\" class=\"dataframe\">\n",
       "  <thead>\n",
       "    <tr style=\"text-align: right;\">\n",
       "      <th></th>\n",
       "      <th></th>\n",
       "      <th></th>\n",
       "      <th></th>\n",
       "      <th>Rating</th>\n",
       "      <th>Reviews</th>\n",
       "      <th>Size</th>\n",
       "      <th>Installs</th>\n",
       "      <th>Type</th>\n",
       "      <th>Price</th>\n",
       "      <th>Content Rating</th>\n",
       "      <th>Last Updated</th>\n",
       "      <th>Android Ver</th>\n",
       "    </tr>\n",
       "    <tr>\n",
       "      <th>App</th>\n",
       "      <th>Category</th>\n",
       "      <th>Genres</th>\n",
       "      <th>Current Ver</th>\n",
       "      <th></th>\n",
       "      <th></th>\n",
       "      <th></th>\n",
       "      <th></th>\n",
       "      <th></th>\n",
       "      <th></th>\n",
       "      <th></th>\n",
       "      <th></th>\n",
       "      <th></th>\n",
       "    </tr>\n",
       "  </thead>\n",
       "  <tbody>\n",
       "    <tr>\n",
       "      <th>Weather forecast</th>\n",
       "      <th>WEATHER</th>\n",
       "      <th>Weather</th>\n",
       "      <th>1.11.93</th>\n",
       "      <td>4.8</td>\n",
       "      <td>159455.0</td>\n",
       "      <td>10000000.0</td>\n",
       "      <td>1000000.0</td>\n",
       "      <td>Free</td>\n",
       "      <td>0.00</td>\n",
       "      <td>Everyone</td>\n",
       "      <td>May 8, 2018</td>\n",
       "      <td>4.4 and up</td>\n",
       "    </tr>\n",
       "    <tr>\n",
       "      <th>Weather Live Pro</th>\n",
       "      <th>WEATHER</th>\n",
       "      <th>Weather</th>\n",
       "      <th>1.3</th>\n",
       "      <td>4.8</td>\n",
       "      <td>17493.0</td>\n",
       "      <td>11000000.0</td>\n",
       "      <td>100000.0</td>\n",
       "      <td>Paid</td>\n",
       "      <td>4.49</td>\n",
       "      <td>Everyone</td>\n",
       "      <td>April 20, 2018</td>\n",
       "      <td>4.4 and up</td>\n",
       "    </tr>\n",
       "    <tr>\n",
       "      <th>Live Weather Pro</th>\n",
       "      <th>WEATHER</th>\n",
       "      <th>Weather</th>\n",
       "      <th>1.1</th>\n",
       "      <td>4.8</td>\n",
       "      <td>892.0</td>\n",
       "      <td>17000000.0</td>\n",
       "      <td>10000.0</td>\n",
       "      <td>Free</td>\n",
       "      <td>0.00</td>\n",
       "      <td>Everyone</td>\n",
       "      <td>July 17, 2018</td>\n",
       "      <td>4.4 and up</td>\n",
       "    </tr>\n",
       "    <tr>\n",
       "      <th>Fu*** Weather (Funny Weather)</th>\n",
       "      <th>WEATHER</th>\n",
       "      <th>Weather</th>\n",
       "      <th>Varies with device</th>\n",
       "      <td>4.7</td>\n",
       "      <td>20001.0</td>\n",
       "      <td>NaN</td>\n",
       "      <td>1000000.0</td>\n",
       "      <td>Free</td>\n",
       "      <td>0.00</td>\n",
       "      <td>Mature 17</td>\n",
       "      <td>July 26, 2018</td>\n",
       "      <td>Varies with device</td>\n",
       "    </tr>\n",
       "    <tr>\n",
       "      <th>Weather Forecast Pro</th>\n",
       "      <th>WEATHER</th>\n",
       "      <th>Weather</th>\n",
       "      <th>8.5</th>\n",
       "      <td>4.7</td>\n",
       "      <td>14051.0</td>\n",
       "      <td>8700000.0</td>\n",
       "      <td>100000.0</td>\n",
       "      <td>Paid</td>\n",
       "      <td>3.99</td>\n",
       "      <td>Everyone</td>\n",
       "      <td>August 4, 2018</td>\n",
       "      <td>4.0 and up</td>\n",
       "    </tr>\n",
       "  </tbody>\n",
       "</table>\n",
       "</div>"
      ],
      "text/plain": [
       "                                                                   Rating  \\\n",
       "App                           Category Genres  Current Ver                  \n",
       "Weather forecast              WEATHER  Weather 1.11.93                4.8   \n",
       "Weather Live Pro              WEATHER  Weather 1.3                    4.8   \n",
       "Live Weather Pro              WEATHER  Weather 1.1                    4.8   \n",
       "Fu*** Weather (Funny Weather) WEATHER  Weather Varies with device     4.7   \n",
       "Weather Forecast Pro          WEATHER  Weather 8.5                    4.7   \n",
       "\n",
       "                                                                    Reviews  \\\n",
       "App                           Category Genres  Current Ver                    \n",
       "Weather forecast              WEATHER  Weather 1.11.93             159455.0   \n",
       "Weather Live Pro              WEATHER  Weather 1.3                  17493.0   \n",
       "Live Weather Pro              WEATHER  Weather 1.1                    892.0   \n",
       "Fu*** Weather (Funny Weather) WEATHER  Weather Varies with device   20001.0   \n",
       "Weather Forecast Pro          WEATHER  Weather 8.5                  14051.0   \n",
       "\n",
       "                                                                         Size  \\\n",
       "App                           Category Genres  Current Ver                      \n",
       "Weather forecast              WEATHER  Weather 1.11.93             10000000.0   \n",
       "Weather Live Pro              WEATHER  Weather 1.3                 11000000.0   \n",
       "Live Weather Pro              WEATHER  Weather 1.1                 17000000.0   \n",
       "Fu*** Weather (Funny Weather) WEATHER  Weather Varies with device         NaN   \n",
       "Weather Forecast Pro          WEATHER  Weather 8.5                  8700000.0   \n",
       "\n",
       "                                                                    Installs  \\\n",
       "App                           Category Genres  Current Ver                     \n",
       "Weather forecast              WEATHER  Weather 1.11.93             1000000.0   \n",
       "Weather Live Pro              WEATHER  Weather 1.3                  100000.0   \n",
       "Live Weather Pro              WEATHER  Weather 1.1                   10000.0   \n",
       "Fu*** Weather (Funny Weather) WEATHER  Weather Varies with device  1000000.0   \n",
       "Weather Forecast Pro          WEATHER  Weather 8.5                  100000.0   \n",
       "\n",
       "                                                                   Type  \\\n",
       "App                           Category Genres  Current Ver                \n",
       "Weather forecast              WEATHER  Weather 1.11.93             Free   \n",
       "Weather Live Pro              WEATHER  Weather 1.3                 Paid   \n",
       "Live Weather Pro              WEATHER  Weather 1.1                 Free   \n",
       "Fu*** Weather (Funny Weather) WEATHER  Weather Varies with device  Free   \n",
       "Weather Forecast Pro          WEATHER  Weather 8.5                 Paid   \n",
       "\n",
       "                                                                   Price  \\\n",
       "App                           Category Genres  Current Ver                 \n",
       "Weather forecast              WEATHER  Weather 1.11.93              0.00   \n",
       "Weather Live Pro              WEATHER  Weather 1.3                  4.49   \n",
       "Live Weather Pro              WEATHER  Weather 1.1                  0.00   \n",
       "Fu*** Weather (Funny Weather) WEATHER  Weather Varies with device   0.00   \n",
       "Weather Forecast Pro          WEATHER  Weather 8.5                  3.99   \n",
       "\n",
       "                                                                  Content Rating  \\\n",
       "App                           Category Genres  Current Ver                         \n",
       "Weather forecast              WEATHER  Weather 1.11.93                  Everyone   \n",
       "Weather Live Pro              WEATHER  Weather 1.3                      Everyone   \n",
       "Live Weather Pro              WEATHER  Weather 1.1                      Everyone   \n",
       "Fu*** Weather (Funny Weather) WEATHER  Weather Varies with device      Mature 17   \n",
       "Weather Forecast Pro          WEATHER  Weather 8.5                      Everyone   \n",
       "\n",
       "                                                                     Last Updated  \\\n",
       "App                           Category Genres  Current Ver                          \n",
       "Weather forecast              WEATHER  Weather 1.11.93                May 8, 2018   \n",
       "Weather Live Pro              WEATHER  Weather 1.3                 April 20, 2018   \n",
       "Live Weather Pro              WEATHER  Weather 1.1                  July 17, 2018   \n",
       "Fu*** Weather (Funny Weather) WEATHER  Weather Varies with device   July 26, 2018   \n",
       "Weather Forecast Pro          WEATHER  Weather 8.5                 August 4, 2018   \n",
       "\n",
       "                                                                          Android Ver  \n",
       "App                           Category Genres  Current Ver                             \n",
       "Weather forecast              WEATHER  Weather 1.11.93                     4.4 and up  \n",
       "Weather Live Pro              WEATHER  Weather 1.3                         4.4 and up  \n",
       "Live Weather Pro              WEATHER  Weather 1.1                         4.4 and up  \n",
       "Fu*** Weather (Funny Weather) WEATHER  Weather Varies with device  Varies with device  \n",
       "Weather Forecast Pro          WEATHER  Weather 8.5                         4.0 and up  "
      ]
     },
     "execution_count": 2,
     "metadata": {},
     "output_type": "execute_result"
    }
   ],
   "source": [
    "playstore = session.read_csv(\n",
    "    \"s3://data.atoti.io/notebooks/topcount/googleplaystore_cleaned.csv\",\n",
    "    table_name=\"playstore\",\n",
    "    keys=[\"App\", \"Category\", \"Genres\", \"Current Ver\"],\n",
    "    types={\"Reviews\": tt.type.FLOAT, \"Installs\": tt.type.FLOAT},\n",
    "    process_quotes=True,\n",
    ")\n",
    "\n",
    "playstore.head()"
   ]
  },
  {
   "cell_type": "code",
   "execution_count": 3,
   "metadata": {},
   "outputs": [
    {
     "data": {
      "image/svg+xml": [
       "<svg xmlns=\"http://www.w3.org/2000/svg\" xmlns:xlink=\"http://www.w3.org/1999/xlink\" width=\"195px\" height=\"354px\" viewBox=\"0.00 0.00 195.00 354.00\">\n",
       "<g id=\"graph0\" class=\"graph\" transform=\"scale(1.0 1.0) rotate(0) translate(4 350)\">\n",
       "<title>Google Playstore schema</title>\n",
       "<polygon fill=\"white\" stroke=\"transparent\" points=\"-4,4 -4,-350 191,-350 191,4 -4,4\"/>\n",
       "<!-- playstore -->\n",
       "<g id=\"node1\" class=\"node\">\n",
       "<title>playstore</title>\n",
       "<text text-anchor=\"start\" x=\"66.5\" y=\"-326.6\" font-family=\"-apple-system, BlinkMacSystemFont, 'Segoe UI', Helvetica, Arial, sans-serif, 'Apple Color Emoji', 'Segoe UI Emoji', 'Segoe UI Symbol'\" font-weight=\"bold\" font-size=\"13.00\">playstore</text>\n",
       "<polygon fill=\"#f5f5f5\" stroke=\"transparent\" points=\"9.5,-293 9.5,-317 40.5,-317 40.5,-293 9.5,-293\"/>\n",
       "<text text-anchor=\"start\" x=\"14.5\" y=\"-302.6\" font-family=\"-apple-system, BlinkMacSystemFont, 'Segoe UI', Helvetica, Arial, sans-serif, 'Apple Color Emoji', 'Segoe UI Emoji', 'Segoe UI Symbol'\" font-weight=\"bold\" font-size=\"13.00\">key</text>\n",
       "<polygon fill=\"#f5f5f5\" stroke=\"transparent\" points=\"40.5,-293 40.5,-317 131.5,-317 131.5,-293 40.5,-293\"/>\n",
       "<text text-anchor=\"start\" x=\"45.5\" y=\"-301.6\" font-family=\"-apple-system, BlinkMacSystemFont, 'Segoe UI', Helvetica, Arial, sans-serif, 'Apple Color Emoji', 'Segoe UI Emoji', 'Segoe UI Symbol'\" font-size=\"13.00\">App</text>\n",
       "<polygon fill=\"#f5f5f5\" stroke=\"transparent\" points=\"131.5,-293 131.5,-317 178.5,-317 178.5,-293 131.5,-293\"/>\n",
       "<text text-anchor=\"start\" x=\"140.5\" y=\"-302.6\" font-family=\"-apple-system, BlinkMacSystemFont, 'Segoe UI', Helvetica, Arial, sans-serif, 'Apple Color Emoji', 'Segoe UI Emoji', 'Segoe UI Symbol'\" font-style=\"italic\" font-size=\"13.00\">String</text>\n",
       "<polygon fill=\"#ffffff\" stroke=\"transparent\" points=\"9.5,-269 9.5,-293 40.5,-293 40.5,-269 9.5,-269\"/>\n",
       "<text text-anchor=\"start\" x=\"14.5\" y=\"-278.6\" font-family=\"-apple-system, BlinkMacSystemFont, 'Segoe UI', Helvetica, Arial, sans-serif, 'Apple Color Emoji', 'Segoe UI Emoji', 'Segoe UI Symbol'\" font-weight=\"bold\" font-size=\"13.00\">key</text>\n",
       "<polygon fill=\"#ffffff\" stroke=\"transparent\" points=\"40.5,-269 40.5,-293 131.5,-293 131.5,-269 40.5,-269\"/>\n",
       "<text text-anchor=\"start\" x=\"45.5\" y=\"-277.6\" font-family=\"-apple-system, BlinkMacSystemFont, 'Segoe UI', Helvetica, Arial, sans-serif, 'Apple Color Emoji', 'Segoe UI Emoji', 'Segoe UI Symbol'\" font-size=\"13.00\">Category</text>\n",
       "<polygon fill=\"#ffffff\" stroke=\"transparent\" points=\"131.5,-269 131.5,-293 178.5,-293 178.5,-269 131.5,-269\"/>\n",
       "<text text-anchor=\"start\" x=\"140.5\" y=\"-278.6\" font-family=\"-apple-system, BlinkMacSystemFont, 'Segoe UI', Helvetica, Arial, sans-serif, 'Apple Color Emoji', 'Segoe UI Emoji', 'Segoe UI Symbol'\" font-style=\"italic\" font-size=\"13.00\">String</text>\n",
       "<polygon fill=\"#f5f5f5\" stroke=\"transparent\" points=\"9.5,-245 9.5,-269 40.5,-269 40.5,-245 9.5,-245\"/>\n",
       "<polygon fill=\"#f5f5f5\" stroke=\"transparent\" points=\"40.5,-245 40.5,-269 131.5,-269 131.5,-245 40.5,-245\"/>\n",
       "<text text-anchor=\"start\" x=\"45.5\" y=\"-253.6\" font-family=\"-apple-system, BlinkMacSystemFont, 'Segoe UI', Helvetica, Arial, sans-serif, 'Apple Color Emoji', 'Segoe UI Emoji', 'Segoe UI Symbol'\" font-size=\"13.00\">Rating</text>\n",
       "<polygon fill=\"#f5f5f5\" stroke=\"transparent\" points=\"131.5,-245 131.5,-269 178.5,-269 178.5,-245 131.5,-245\"/>\n",
       "<text text-anchor=\"start\" x=\"136.5\" y=\"-254.6\" font-family=\"-apple-system, BlinkMacSystemFont, 'Segoe UI', Helvetica, Arial, sans-serif, 'Apple Color Emoji', 'Segoe UI Emoji', 'Segoe UI Symbol'\" font-style=\"italic\" font-size=\"13.00\">double</text>\n",
       "<polygon fill=\"#ffffff\" stroke=\"transparent\" points=\"9.5,-221 9.5,-245 40.5,-245 40.5,-221 9.5,-221\"/>\n",
       "<polygon fill=\"#ffffff\" stroke=\"transparent\" points=\"40.5,-221 40.5,-245 131.5,-245 131.5,-221 40.5,-221\"/>\n",
       "<text text-anchor=\"start\" x=\"45.5\" y=\"-229.6\" font-family=\"-apple-system, BlinkMacSystemFont, 'Segoe UI', Helvetica, Arial, sans-serif, 'Apple Color Emoji', 'Segoe UI Emoji', 'Segoe UI Symbol'\" font-size=\"13.00\">Reviews</text>\n",
       "<polygon fill=\"#ffffff\" stroke=\"transparent\" points=\"131.5,-221 131.5,-245 178.5,-245 178.5,-221 131.5,-221\"/>\n",
       "<text text-anchor=\"start\" x=\"148.5\" y=\"-230.6\" font-family=\"-apple-system, BlinkMacSystemFont, 'Segoe UI', Helvetica, Arial, sans-serif, 'Apple Color Emoji', 'Segoe UI Emoji', 'Segoe UI Symbol'\" font-style=\"italic\" font-size=\"13.00\">float</text>\n",
       "<polygon fill=\"#f5f5f5\" stroke=\"transparent\" points=\"9.5,-197 9.5,-221 40.5,-221 40.5,-197 9.5,-197\"/>\n",
       "<polygon fill=\"#f5f5f5\" stroke=\"transparent\" points=\"40.5,-197 40.5,-221 131.5,-221 131.5,-197 40.5,-197\"/>\n",
       "<text text-anchor=\"start\" x=\"45.5\" y=\"-205.6\" font-family=\"-apple-system, BlinkMacSystemFont, 'Segoe UI', Helvetica, Arial, sans-serif, 'Apple Color Emoji', 'Segoe UI Emoji', 'Segoe UI Symbol'\" font-size=\"13.00\">Size</text>\n",
       "<polygon fill=\"#f5f5f5\" stroke=\"transparent\" points=\"131.5,-197 131.5,-221 178.5,-221 178.5,-197 131.5,-197\"/>\n",
       "<text text-anchor=\"start\" x=\"136.5\" y=\"-206.6\" font-family=\"-apple-system, BlinkMacSystemFont, 'Segoe UI', Helvetica, Arial, sans-serif, 'Apple Color Emoji', 'Segoe UI Emoji', 'Segoe UI Symbol'\" font-style=\"italic\" font-size=\"13.00\">double</text>\n",
       "<polygon fill=\"#ffffff\" stroke=\"transparent\" points=\"9.5,-173 9.5,-197 40.5,-197 40.5,-173 9.5,-173\"/>\n",
       "<polygon fill=\"#ffffff\" stroke=\"transparent\" points=\"40.5,-173 40.5,-197 131.5,-197 131.5,-173 40.5,-173\"/>\n",
       "<text text-anchor=\"start\" x=\"45.5\" y=\"-181.6\" font-family=\"-apple-system, BlinkMacSystemFont, 'Segoe UI', Helvetica, Arial, sans-serif, 'Apple Color Emoji', 'Segoe UI Emoji', 'Segoe UI Symbol'\" font-size=\"13.00\">Installs</text>\n",
       "<polygon fill=\"#ffffff\" stroke=\"transparent\" points=\"131.5,-173 131.5,-197 178.5,-197 178.5,-173 131.5,-173\"/>\n",
       "<text text-anchor=\"start\" x=\"148.5\" y=\"-182.6\" font-family=\"-apple-system, BlinkMacSystemFont, 'Segoe UI', Helvetica, Arial, sans-serif, 'Apple Color Emoji', 'Segoe UI Emoji', 'Segoe UI Symbol'\" font-style=\"italic\" font-size=\"13.00\">float</text>\n",
       "<polygon fill=\"#f5f5f5\" stroke=\"transparent\" points=\"9.5,-149 9.5,-173 40.5,-173 40.5,-149 9.5,-149\"/>\n",
       "<polygon fill=\"#f5f5f5\" stroke=\"transparent\" points=\"40.5,-149 40.5,-173 131.5,-173 131.5,-149 40.5,-149\"/>\n",
       "<text text-anchor=\"start\" x=\"45.5\" y=\"-157.6\" font-family=\"-apple-system, BlinkMacSystemFont, 'Segoe UI', Helvetica, Arial, sans-serif, 'Apple Color Emoji', 'Segoe UI Emoji', 'Segoe UI Symbol'\" font-size=\"13.00\">Type</text>\n",
       "<polygon fill=\"#f5f5f5\" stroke=\"transparent\" points=\"131.5,-149 131.5,-173 178.5,-173 178.5,-149 131.5,-149\"/>\n",
       "<text text-anchor=\"start\" x=\"140.5\" y=\"-158.6\" font-family=\"-apple-system, BlinkMacSystemFont, 'Segoe UI', Helvetica, Arial, sans-serif, 'Apple Color Emoji', 'Segoe UI Emoji', 'Segoe UI Symbol'\" font-style=\"italic\" font-size=\"13.00\">String</text>\n",
       "<polygon fill=\"#ffffff\" stroke=\"transparent\" points=\"9.5,-125 9.5,-149 40.5,-149 40.5,-125 9.5,-125\"/>\n",
       "<polygon fill=\"#ffffff\" stroke=\"transparent\" points=\"40.5,-125 40.5,-149 131.5,-149 131.5,-125 40.5,-125\"/>\n",
       "<text text-anchor=\"start\" x=\"45.5\" y=\"-133.6\" font-family=\"-apple-system, BlinkMacSystemFont, 'Segoe UI', Helvetica, Arial, sans-serif, 'Apple Color Emoji', 'Segoe UI Emoji', 'Segoe UI Symbol'\" font-size=\"13.00\">Price</text>\n",
       "<polygon fill=\"#ffffff\" stroke=\"transparent\" points=\"131.5,-125 131.5,-149 178.5,-149 178.5,-125 131.5,-125\"/>\n",
       "<text text-anchor=\"start\" x=\"136.5\" y=\"-134.6\" font-family=\"-apple-system, BlinkMacSystemFont, 'Segoe UI', Helvetica, Arial, sans-serif, 'Apple Color Emoji', 'Segoe UI Emoji', 'Segoe UI Symbol'\" font-style=\"italic\" font-size=\"13.00\">double</text>\n",
       "<polygon fill=\"#f5f5f5\" stroke=\"transparent\" points=\"9.5,-101 9.5,-125 40.5,-125 40.5,-101 9.5,-101\"/>\n",
       "<polygon fill=\"#f5f5f5\" stroke=\"transparent\" points=\"40.5,-101 40.5,-125 131.5,-125 131.5,-101 40.5,-101\"/>\n",
       "<text text-anchor=\"start\" x=\"45.5\" y=\"-109.6\" font-family=\"-apple-system, BlinkMacSystemFont, 'Segoe UI', Helvetica, Arial, sans-serif, 'Apple Color Emoji', 'Segoe UI Emoji', 'Segoe UI Symbol'\" font-size=\"13.00\">Content Rating</text>\n",
       "<polygon fill=\"#f5f5f5\" stroke=\"transparent\" points=\"131.5,-101 131.5,-125 178.5,-125 178.5,-101 131.5,-101\"/>\n",
       "<text text-anchor=\"start\" x=\"140.5\" y=\"-110.6\" font-family=\"-apple-system, BlinkMacSystemFont, 'Segoe UI', Helvetica, Arial, sans-serif, 'Apple Color Emoji', 'Segoe UI Emoji', 'Segoe UI Symbol'\" font-style=\"italic\" font-size=\"13.00\">String</text>\n",
       "<polygon fill=\"#ffffff\" stroke=\"transparent\" points=\"9.5,-77 9.5,-101 40.5,-101 40.5,-77 9.5,-77\"/>\n",
       "<text text-anchor=\"start\" x=\"14.5\" y=\"-86.6\" font-family=\"-apple-system, BlinkMacSystemFont, 'Segoe UI', Helvetica, Arial, sans-serif, 'Apple Color Emoji', 'Segoe UI Emoji', 'Segoe UI Symbol'\" font-weight=\"bold\" font-size=\"13.00\">key</text>\n",
       "<polygon fill=\"#ffffff\" stroke=\"transparent\" points=\"40.5,-77 40.5,-101 131.5,-101 131.5,-77 40.5,-77\"/>\n",
       "<text text-anchor=\"start\" x=\"45.5\" y=\"-85.6\" font-family=\"-apple-system, BlinkMacSystemFont, 'Segoe UI', Helvetica, Arial, sans-serif, 'Apple Color Emoji', 'Segoe UI Emoji', 'Segoe UI Symbol'\" font-size=\"13.00\">Genres</text>\n",
       "<polygon fill=\"#ffffff\" stroke=\"transparent\" points=\"131.5,-77 131.5,-101 178.5,-101 178.5,-77 131.5,-77\"/>\n",
       "<text text-anchor=\"start\" x=\"140.5\" y=\"-86.6\" font-family=\"-apple-system, BlinkMacSystemFont, 'Segoe UI', Helvetica, Arial, sans-serif, 'Apple Color Emoji', 'Segoe UI Emoji', 'Segoe UI Symbol'\" font-style=\"italic\" font-size=\"13.00\">String</text>\n",
       "<polygon fill=\"#f5f5f5\" stroke=\"transparent\" points=\"9.5,-53 9.5,-77 40.5,-77 40.5,-53 9.5,-53\"/>\n",
       "<polygon fill=\"#f5f5f5\" stroke=\"transparent\" points=\"40.5,-53 40.5,-77 131.5,-77 131.5,-53 40.5,-53\"/>\n",
       "<text text-anchor=\"start\" x=\"45.5\" y=\"-61.6\" font-family=\"-apple-system, BlinkMacSystemFont, 'Segoe UI', Helvetica, Arial, sans-serif, 'Apple Color Emoji', 'Segoe UI Emoji', 'Segoe UI Symbol'\" font-size=\"13.00\">Last Updated</text>\n",
       "<polygon fill=\"#f5f5f5\" stroke=\"transparent\" points=\"131.5,-53 131.5,-77 178.5,-77 178.5,-53 131.5,-53\"/>\n",
       "<text text-anchor=\"start\" x=\"140.5\" y=\"-62.6\" font-family=\"-apple-system, BlinkMacSystemFont, 'Segoe UI', Helvetica, Arial, sans-serif, 'Apple Color Emoji', 'Segoe UI Emoji', 'Segoe UI Symbol'\" font-style=\"italic\" font-size=\"13.00\">String</text>\n",
       "<polygon fill=\"#ffffff\" stroke=\"transparent\" points=\"9.5,-29 9.5,-53 40.5,-53 40.5,-29 9.5,-29\"/>\n",
       "<text text-anchor=\"start\" x=\"14.5\" y=\"-38.6\" font-family=\"-apple-system, BlinkMacSystemFont, 'Segoe UI', Helvetica, Arial, sans-serif, 'Apple Color Emoji', 'Segoe UI Emoji', 'Segoe UI Symbol'\" font-weight=\"bold\" font-size=\"13.00\">key</text>\n",
       "<polygon fill=\"#ffffff\" stroke=\"transparent\" points=\"40.5,-29 40.5,-53 131.5,-53 131.5,-29 40.5,-29\"/>\n",
       "<text text-anchor=\"start\" x=\"45.5\" y=\"-37.6\" font-family=\"-apple-system, BlinkMacSystemFont, 'Segoe UI', Helvetica, Arial, sans-serif, 'Apple Color Emoji', 'Segoe UI Emoji', 'Segoe UI Symbol'\" font-size=\"13.00\">Current Ver</text>\n",
       "<polygon fill=\"#ffffff\" stroke=\"transparent\" points=\"131.5,-29 131.5,-53 178.5,-53 178.5,-29 131.5,-29\"/>\n",
       "<text text-anchor=\"start\" x=\"140.5\" y=\"-38.6\" font-family=\"-apple-system, BlinkMacSystemFont, 'Segoe UI', Helvetica, Arial, sans-serif, 'Apple Color Emoji', 'Segoe UI Emoji', 'Segoe UI Symbol'\" font-style=\"italic\" font-size=\"13.00\">String</text>\n",
       "<polygon fill=\"#f5f5f5\" stroke=\"transparent\" points=\"9.5,-5 9.5,-29 40.5,-29 40.5,-5 9.5,-5\"/>\n",
       "<polygon fill=\"#f5f5f5\" stroke=\"transparent\" points=\"40.5,-5 40.5,-29 131.5,-29 131.5,-5 40.5,-5\"/>\n",
       "<text text-anchor=\"start\" x=\"45.5\" y=\"-13.6\" font-family=\"-apple-system, BlinkMacSystemFont, 'Segoe UI', Helvetica, Arial, sans-serif, 'Apple Color Emoji', 'Segoe UI Emoji', 'Segoe UI Symbol'\" font-size=\"13.00\">Android Ver</text>\n",
       "<polygon fill=\"#f5f5f5\" stroke=\"transparent\" points=\"131.5,-5 131.5,-29 178.5,-29 178.5,-5 131.5,-5\"/>\n",
       "<text text-anchor=\"start\" x=\"140.5\" y=\"-14.6\" font-family=\"-apple-system, BlinkMacSystemFont, 'Segoe UI', Helvetica, Arial, sans-serif, 'Apple Color Emoji', 'Segoe UI Emoji', 'Segoe UI Symbol'\" font-style=\"italic\" font-size=\"13.00\">String</text>\n",
       "<polygon fill=\"none\" stroke=\"black\" points=\"8,-4 8,-342 179,-342 179,-4 8,-4\"/>\n",
       "</g>\n",
       "</g>\n",
       "</svg>"
      ],
      "text/plain": [
       "<IPython.core.display.SVG object>"
      ]
     },
     "execution_count": 3,
     "metadata": {},
     "output_type": "execute_result"
    }
   ],
   "source": [
    "cube = session.create_cube(playstore, \"Google Playstore\")\n",
    "cube.schema"
   ]
  },
  {
   "cell_type": "markdown",
   "metadata": {},
   "source": [
    "### Top 10 apps with highest rating across categories\n",
    "\n",
    "Use the content editor to apply a top count filter on the pivot table."
   ]
  },
  {
   "cell_type": "code",
   "execution_count": null,
   "metadata": {
    "atoti": {
     "widget": {
      "columnWidths": {
       "[playstore].[App].[App]": 321,
       "[playstore].[Category].[Category]": 169
      },
      "filters": [
       "TopCount(Filter([playstore].[App].Levels(1).Members, NOT IsEmpty([Measures].[Rating.MEAN])), 10, [Measures].[Rating.MEAN])"
      ],
      "mapping": {
       "columns": [
        "ALL_MEASURES"
       ],
       "measures": [
        "[Measures].[Rating.SUM]",
        "[Measures].[Reviews.SUM]"
       ],
       "rows": [
        "[playstore].[Category].[Category] => [playstore].[Genres].[Genres] => [playstore].[App].[App]"
       ]
      },
      "name": "Top 10 apps with highest rating across categories",
      "query": {
       "context": {
        "queriesResultLimit.intermediateSize": 1000000,
        "queriesResultLimit.transientSize": 10000000
       },
       "mdx": "SELECT NON EMPTY Hierarchize(Union(Crossjoin(Union([playstore].[Category].[Category].Members, Hierarchize(Descendants({[playstore].[Category].[AllMember]}, 1, SELF_AND_BEFORE))), [playstore].[Genres].DefaultMember, [playstore].[App].DefaultMember), Crossjoin([playstore].[Category].[AllMember].[NEWS_AND_MAGAZINES], Hierarchize(Descendants({[playstore].[Genres].[AllMember]}, 1, SELF_AND_BEFORE)), [playstore].[App].DefaultMember), Crossjoin([playstore].[Category].[AllMember].[NEWS_AND_MAGAZINES], [playstore].[Genres].[AllMember].[News & Magazines], Hierarchize(Descendants({[playstore].[App].[AllMember]}, 1, SELF_AND_BEFORE))), Crossjoin([playstore].[Category].[AllMember].[FAMILY], Hierarchize(Descendants({[playstore].[Genres].[AllMember]}, 1, SELF_AND_BEFORE)), [playstore].[App].DefaultMember), Crossjoin([playstore].[Category].[AllMember].[FAMILY], [playstore].[Genres].[AllMember].[Education], Hierarchize(Descendants({[playstore].[App].[AllMember]}, 1, SELF_AND_BEFORE))))) ON ROWS, NON EMPTY {[Measures].[Rating.SUM], [Measures].[Reviews.SUM]} ON COLUMNS FROM (SELECT TopCount(Filter([playstore].[App].Levels(1).Members, NOT IsEmpty([Measures].[Rating.MEAN])), 10, [Measures].[Rating.MEAN]) ON COLUMNS FROM [Google Playstore]) CELL PROPERTIES VALUE, FORMATTED_VALUE, BACK_COLOR, FORE_COLOR, FONT_FLAGS"
      },
      "serverKey": "default",
      "widgetKey": "pivot-table"
     }
    }
   },
   "outputs": [],
   "source": [
    "session.visualize(\"Top 10 apps with highest rating across categories\")"
   ]
  },
  {
   "cell_type": "markdown",
   "metadata": {},
   "source": [
    "### Top 10 categories with the most number of apps rated 5"
   ]
  },
  {
   "cell_type": "code",
   "execution_count": null,
   "metadata": {},
   "outputs": [],
   "source": [
    "h, l, m = cube.hierarchies, cube.levels, cube.measures\n",
    "m"
   ]
  },
  {
   "cell_type": "markdown",
   "metadata": {},
   "source": [
    "#### Number of apps rated 5\n",
    "\n",
    "Create a measure that counts the number of apps rated 5 within categories and at levels below the category."
   ]
  },
  {
   "cell_type": "code",
   "execution_count": null,
   "metadata": {},
   "outputs": [],
   "source": [
    "m[\"Count with rating 5\"] = tt.agg.sum(\n",
    "    tt.where(m[\"Rating.MEAN\"] == 5, m[\"contributors.COUNT\"], 0),\n",
    "    scope=tt.scope.origin(l[\"Category\"], l[\"App\"]),\n",
    ")"
   ]
  },
  {
   "cell_type": "markdown",
   "metadata": {},
   "source": [
    "We can drill down to different levels from category and the count is computed on the fly."
   ]
  },
  {
   "cell_type": "code",
   "execution_count": null,
   "metadata": {
    "atoti": {
     "widget": {
      "filters": [
       "Filter([playstore].[Category].[Category].Members, [Measures].[Count with rating 5] > 0)"
      ],
      "mapping": {
       "columns": [
        "ALL_MEASURES"
       ],
       "measures": [
        "[Measures].[Count with rating 5]"
       ],
       "rows": [
        "[playstore].[Category].[Category] => [playstore].[Genres].[Genres] => [playstore].[Content Rating].[Content Rating]"
       ]
      },
      "query": {
       "mdx": "SELECT NON EMPTY Hierarchize(Union(Crossjoin(Descendants({[playstore].[Category].[AllMember]}, 1, SELF_AND_BEFORE), [playstore].[Genres].DefaultMember, [playstore].[Content Rating].DefaultMember), Crossjoin([playstore].[Category].[AllMember].[BUSINESS], Hierarchize(Descendants({[playstore].[Genres].[AllMember]}, 1, SELF_AND_BEFORE)), [playstore].[Content Rating].DefaultMember), Crossjoin([playstore].[Category].[AllMember].[BUSINESS], [playstore].[Genres].[AllMember].[Business], Hierarchize(Descendants({[playstore].[Content Rating].[AllMember]}, 1, SELF_AND_BEFORE))))) ON ROWS, NON EMPTY {[Measures].[Count with rating 5]} ON COLUMNS FROM [Google Playstore]",
       "updateMode": "once"
      },
      "serverKey": "default",
      "widgetKey": "pivot-table"
     }
    }
   },
   "outputs": [],
   "source": [
    "session.visualize(\"Categories with apps rated 5\")"
   ]
  },
  {
   "cell_type": "markdown",
   "metadata": {},
   "source": [
    "Apply top count filter from **atoti editor** on the category by the `Count with rating 5` measure. The atoti editor is the atoti's Jupyterlab extension on the right with the <img src=\"https://data.atoti.io/notebooks/topcount/atoti_editor.png\" alt=\"a.\" width=\"50\"> icon."
   ]
  },
  {
   "cell_type": "code",
   "execution_count": null,
   "metadata": {
    "atoti": {
     "widget": {
      "filters": [
       "TopCount(Filter([playstore].[Category].Levels(1).Members, NOT IsEmpty([Measures].[Count with rating 5])), 10, [Measures].[Count with rating 5])"
      ],
      "mapping": {
       "horizontalSubplots": [],
       "sliceBy": [
        "[playstore].[Category].[Category]"
       ],
       "values": [
        "[Measures].[Count with rating 5]"
       ],
       "verticalSubplots": []
      },
      "name": "Top 10 categories with most number of apps rated 5",
      "query": {
       "context": {
        "queriesResultLimit.intermediateSize": 1000000,
        "queriesResultLimit.transientSize": 10000000
       },
       "mdx": "SELECT NON EMPTY [Measures].[Count with rating 5] ON COLUMNS, NON EMPTY [playstore].[Category].[Category].Members ON ROWS FROM (SELECT TopCount(Filter([playstore].[Category].Levels(1).Members, NOT IsEmpty([Measures].[Count with rating 5])), 10, [Measures].[Count with rating 5]) ON COLUMNS FROM [Google Playstore]) CELL PROPERTIES VALUE, FORMATTED_VALUE, BACK_COLOR, FORE_COLOR, FONT_FLAGS"
      },
      "serverKey": "default",
      "widgetKey": "plotly-pie-chart"
     }
    }
   },
   "outputs": [],
   "source": [
    "session.visualize(\"Top 10 categories with most number of apps rated 5\")"
   ]
  },
  {
   "cell_type": "markdown",
   "metadata": {},
   "source": [
    "### Top 10 apps for each category\n",
    "\n",
    "Since we are performing top 10 apps filtering for each category, it's only right that we classify `App` under `Category`.  \n",
    "In this case, we create a multi-level hierarchy such as the following:"
   ]
  },
  {
   "cell_type": "code",
   "execution_count": null,
   "metadata": {},
   "outputs": [],
   "source": [
    "h[\"App Categories\"] = [l[\"Category\"], l[\"App\"]]\n",
    "h"
   ]
  },
  {
   "cell_type": "markdown",
   "metadata": {},
   "source": [
    "This structure allows us to select at which level we want to apply the top count on in a multilevel hierarchy from the atoti editor.  \n",
    "<img src=\"https://data.atoti.io/notebooks/topcount/filter_by_category.png\" alt=\"Filter by level\" width=\"30%\">"
   ]
  },
  {
   "cell_type": "code",
   "execution_count": null,
   "metadata": {
    "atoti": {
     "height": 450,
     "widget": {
      "columnWidths": {
       "[playstore].[App Categories].[App]": 292,
       "[playstore].[App Categories].[Category]": 169,
       "[playstore].[App].[App]": 333,
       "[playstore].[Category].[Category]": 169
      },
      "filters": [
       "Generate([playstore].[App Categories].Levels(1).Members, TopCount(Filter([playstore].[App Categories].CurrentMember.Children, NOT IsEmpty([Measures].[Rating.MEAN])), 10, [Measures].[Rating.MEAN]))"
      ],
      "mapping": {
       "columns": [
        "ALL_MEASURES"
       ],
       "measures": [
        "[Measures].[Rating.MEAN]"
       ],
       "rows": [
        "[playstore].[App Categories].[Category] => [playstore].[App Categories].[App]"
       ]
      },
      "query": {
       "mdx": "SELECT NON EMPTY {[Measures].[Rating.MEAN]} ON COLUMNS, NON EMPTY Order(Hierarchize(Union(Descendants({[playstore].[App Categories].[AllMember]}, 1, SELF_AND_BEFORE), Descendants({[playstore].[App Categories].[AllMember].[ART_AND_DESIGN]}, [playstore].[App Categories].[App]), Descendants({[playstore].[App Categories].[AllMember].[BUSINESS]}, [playstore].[App Categories].[App]))), [Measures].[Rating.MEAN], DESC) ON ROWS FROM [Google Playstore]",
       "updateMode": "once"
      },
      "serverKey": "default",
      "widgetKey": "pivot-table"
     }
    }
   },
   "outputs": [],
   "source": [
    "session.visualize(\"Top 10 apps with highest rating for each category\")"
   ]
  },
  {
   "cell_type": "markdown",
   "metadata": {},
   "source": [
    "#### Creating subplot to visualize top count per category\n",
    "\n",
    "Again, go to the atoti's Jupyterlab extension and add `Category` level to the subplot section.  \n",
    "<img src=\"https://data.atoti.io/notebooks/topcount/subplot_controls.png\" alt=\"create subplot\" width=\"30%\">\n",
    "\n",
    "Slice the pie chart is by `Apps` and apply filter on `App` level of the `App Categories`"
   ]
  },
  {
   "cell_type": "code",
   "execution_count": null,
   "metadata": {
    "atoti": {
     "widget": {
      "filters": [
       "Generate([playstore].[App Categories].Levels(1).Members, TopCount(Filter([playstore].[App Categories].CurrentMember.Children, NOT IsEmpty([Measures].[Rating.MEAN])), 10, [Measures].[Rating.MEAN]))"
      ],
      "mapping": {
       "horizontalSubplots": [
        "[playstore].[Category].[Category]"
       ],
       "sliceBy": [
        "[playstore].[App].[App]",
        "[playstore].[Content Rating].[Content Rating]"
       ],
       "values": [
        "[Measures].[Reviews.MEAN]"
       ],
       "verticalSubplots": []
      },
      "name": "Top 10 apps within each categories",
      "query": {
       "context": {
        "queriesResultLimit.intermediateSize": 1000000,
        "queriesResultLimit.transientSize": 10000000
       },
       "mdx": "SELECT NON EMPTY [Measures].[Reviews.MEAN] ON COLUMNS, NON EMPTY Crossjoin([playstore].[App].[App].Members, Hierarchize(Descendants({[playstore].[Content Rating].[AllMember]}, 1, SELF_AND_BEFORE)), [playstore].[Category].[Category].Members) ON ROWS FROM (SELECT Generate([playstore].[App Categories].Levels(1).Members, TopCount(Filter([playstore].[App Categories].CurrentMember.Children, NOT IsEmpty([Measures].[Rating.MEAN])), 10, [Measures].[Rating.MEAN])) ON COLUMNS FROM [Google Playstore]) CELL PROPERTIES VALUE, FORMATTED_VALUE, BACK_COLOR, FORE_COLOR, FONT_FLAGS"
      },
      "serverKey": "default",
      "subplotModeEnabled": true,
      "widgetKey": "plotly-pie-chart"
     }
    },
    "tags": []
   },
   "outputs": [],
   "source": [
    "session.visualize(\"Top 10 apps within each categories\")"
   ]
  },
  {
   "cell_type": "markdown",
   "metadata": {},
   "source": [
    "You can use the filter to select the categories that you want to view.  \n",
    "Alternative, use `session.url` to access the web application to build an interactive dashboard with quick filters. Check out the link below."
   ]
  },
  {
   "cell_type": "code",
   "execution_count": null,
   "metadata": {},
   "outputs": [],
   "source": [
    "session.link(path=\"/#/dashboard/767\")"
   ]
  },
  {
   "cell_type": "markdown",
   "metadata": {},
   "source": [
    "<div style=\"text-align:center\"><a href=\"https://www.atoti.io/?utm_source=gallery&utm_content=top-count\" target=\"_blank\" rel=\"noopener noreferrer\"><img src=\"https://data.atoti.io/notebooks/banners/discover-try.png\" alt=\"atoti table\" /></a></div>"
   ]
  }
 ],
 "metadata": {
  "kernelspec": {
   "display_name": "Python 3 (ipykernel)",
   "language": "python",
   "name": "python3"
  },
  "language_info": {
   "codemirror_mode": {
    "name": "ipython",
    "version": 3
   },
   "file_extension": ".py",
   "mimetype": "text/x-python",
   "name": "python",
   "nbconvert_exporter": "python",
   "pygments_lexer": "ipython3",
   "version": "3.8.12"
  }
 },
 "nbformat": 4,
 "nbformat_minor": 4
}
